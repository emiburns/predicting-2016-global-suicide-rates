{
 "cells": [
  {
   "cell_type": "markdown",
   "metadata": {},
   "source": [
    "#  Predicting Global Suicide Rates With Social Determinants\n",
    "\n",
    "### Project Data Dictionary\n",
    "___\n",
    "\n",
    "![](worldwiderates.png)"
   ]
  },
  {
   "cell_type": "markdown",
   "metadata": {},
   "source": [
    "Below are variable descriptions in both the scraped and cleaned dataframes (available in project '/data' folder). Refer to README for further details regarding data sources, cleaning & analyses. All relationships highlighted in current project are utilized for demonstrative purpose only."
   ]
  },
  {
   "attachments": {},
   "cell_type": "markdown",
   "metadata": {},
   "source": [
    "### Project Data Variables\n",
    "___\n",
    "\n",
    "**Country**- Full name of included country\n",
    "\n",
    "**Code**- Country postal abbreviations\n",
    "  \n",
    "**2016_Suicide_Rate**- Suicide rate as per data published by the World Health Organization (WHO) in 2016 and published on Wikipedia.org. Rates are by country per 100,000 people (age-adjusted). See README for direct source. \n",
    "\n",
    "**Suicide_Classification**- Identification of country as 'Above' or 'Below' average global suicide rate in 2016.\n",
    "  \n",
    "**2015_Disorder_Prevalence**- Prevalence of mental and substance use disorders in 2015 by percent of population (age standardized). See README for direct source. \n",
    "  \n",
    "**2015_Unemployment**- Percent of population currently unemployed but available and seeking work per country. See README for direct source. \n",
    "  \n",
    "**2015_Healthcare_Expenditure**- Public health expenditure by country GDP percentage in 2015 (not adjusted for inflation). See README for direct source.\n",
    "\n",
    "**2015_Gender_Ratio**- Ratio of male identifying individuals against female identifying individuals per country in 2015. See README for direct source.\n",
    "\n",
    "**2015_Literacy_Rate**- Adult literacy rate of UN member, observer states & additional territories in 2015 by population percentage. See README for source. Note- variable not included in final clean dataset due to high rate of missing values."
   ]
  }
 ],
 "metadata": {
  "kernelspec": {
   "display_name": "Python 3",
   "language": "python",
   "name": "python3"
  },
  "language_info": {
   "codemirror_mode": {
    "name": "ipython",
    "version": 3
   },
   "file_extension": ".py",
   "mimetype": "text/x-python",
   "name": "python",
   "nbconvert_exporter": "python",
   "pygments_lexer": "ipython3",
   "version": "3.7.6"
  }
 },
 "nbformat": 4,
 "nbformat_minor": 4
}
